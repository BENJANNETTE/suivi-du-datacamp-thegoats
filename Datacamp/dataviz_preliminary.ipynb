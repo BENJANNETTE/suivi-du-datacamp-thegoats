{
 "cells": [
  {
   "cell_type": "code",
   "execution_count": 1,
   "metadata": {},
   "outputs": [],
   "source": [
    "%matplotlib inline\n",
    "import matplotlib.pyplot as plt\n",
    "import seaborn as sns\n",
    "plt.figure(figsize=(12,8))\n",
    "sns.countplot(x=\"Class\", data=df_train)\n",
    "plt.ylabel('Frequency', fontsize=12)\n",
    "plt.xlabel('Class Count', fontsize=12)\n",
    "plt.xticks(rotation='vertical')\n",
    "plt.title(\"Frequency of Classes\", fontsize=15)\n",
    "plt.show()"
   ]
  },
  {
   "cell_type": "code",
   "execution_count": null,
   "metadata": {},
   "outputs": [],
   "source": [
    "#Genes \n",
    "train_genes = df_train.groupby('Gene')['Gene'].count()\n",
    "\n",
    "for i in [2, 5, 10, 20, 50, 100, 200, 300]:\n",
    "    print('Genes that appear less than {} times: {}%'.format(i, round((train_genes < i).mean() * 100, 2)))\n",
    "\n",
    "plt.figure(figsize=(12, 8))\n",
    "plt.hist(train_genes.values, bins=50, log=True, color = 'dodgerblue')\n",
    "plt.xlabel('Number of times Gene appeared', fontsize=12)\n",
    "plt.ylabel('log of Count', fontsize=12)\n",
    "plt.show()"
   ]
  }
 ],
 "metadata": {
  "kernelspec": {
   "display_name": "Python 3",
   "language": "python",
   "name": "python3"
  },
  "language_info": {
   "codemirror_mode": {
    "name": "ipython",
    "version": 3
   },
   "file_extension": ".py",
   "mimetype": "text/x-python",
   "name": "python",
   "nbconvert_exporter": "python",
   "pygments_lexer": "ipython3",
   "version": "3.6.8"
  }
 },
 "nbformat": 4,
 "nbformat_minor": 2
}
