{
 "cells": [
  {
   "cell_type": "code",
   "execution_count": null,
   "metadata": {},
   "outputs": [],
   "source": [
    "# Words & characters\n",
    "df_train[\"num_words\"] = df_train[\"Text\"].apply(lambda x: len(str(x).split()) )\n",
    "df_train[\"num_chars\"] = df_train[\"Text\"].apply(lambda x: len(str(x)) )\n",
    "df_train"
   ]
  },
  {
   "cell_type": "code",
   "execution_count": null,
   "metadata": {},
   "outputs": [],
   "source": [
    "# Words & characters\n",
    "df_test[\"num_words\"] = df_test[\"Text\"].apply(lambda x: len(str(x).split()) )\n",
    "df_test[\"num_chars\"] = df_test[\"Text\"].apply(lambda x: len(str(x)) )\n",
    "df_test"
   ]
  }
 ],
 "metadata": {
  "kernelspec": {
   "display_name": "Python 3",
   "language": "python",
   "name": "python3"
  },
  "language_info": {
   "codemirror_mode": {
    "name": "ipython",
    "version": 3
   },
   "file_extension": ".py",
   "mimetype": "text/x-python",
   "name": "python",
   "nbconvert_exporter": "python",
   "pygments_lexer": "ipython3",
   "version": "3.6.8"
  }
 },
 "nbformat": 4,
 "nbformat_minor": 2
}
